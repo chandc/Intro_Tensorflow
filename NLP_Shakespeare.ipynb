{
  "nbformat": 4,
  "nbformat_minor": 0,
  "metadata": {
    "colab": {
      "name": "NLP_Week4_Exercise_Shakespeare_Answer.ipynb",
      "provenance": []
    },
    "kernelspec": {
      "name": "python3",
      "display_name": "Python 3"
    },
    "accelerator": "GPU"
  },
  "cells": [
    {
      "cell_type": "code",
      "metadata": {
        "id": "BOwsuGQQY9OL",
        "colab_type": "code",
        "colab": {
          "base_uri": "https://localhost:8080/",
          "height": 63
        },
        "outputId": "17125d55-e780-4cda-8fd3-b474232f2507"
      },
      "source": [
        "from tensorflow.keras.preprocessing.sequence import pad_sequences\n",
        "from tensorflow.keras.layers import Embedding, LSTM, Dense, Dropout, Bidirectional\n",
        "from tensorflow.keras.preprocessing.text import Tokenizer\n",
        "from tensorflow.keras.models import Sequential\n",
        "from tensorflow.keras.optimizers import Adam\n",
        "from tensorflow.keras import regularizers\n",
        "import tensorflow.keras.utils as ku \n",
        "import numpy as np "
      ],
      "execution_count": 1,
      "outputs": [
        {
          "output_type": "display_data",
          "data": {
            "text/html": [
              "<p style=\"color: red;\">\n",
              "The default version of TensorFlow in Colab will soon switch to TensorFlow 2.x.<br>\n",
              "We recommend you <a href=\"https://www.tensorflow.org/guide/migrate\" target=\"_blank\">upgrade</a> now \n",
              "or ensure your notebook will continue to use TensorFlow 1.x via the <code>%tensorflow_version 1.x</code> magic:\n",
              "<a href=\"https://colab.research.google.com/notebooks/tensorflow_version.ipynb\" target=\"_blank\">more info</a>.</p>\n"
            ],
            "text/plain": [
              "<IPython.core.display.HTML object>"
            ]
          },
          "metadata": {
            "tags": []
          }
        }
      ]
    },
    {
      "cell_type": "code",
      "metadata": {
        "colab_type": "code",
        "id": "PRnDnCW-Z7qv",
        "colab": {
          "base_uri": "https://localhost:8080/",
          "height": 204
        },
        "outputId": "bf0844ba-d266-4d9a-8072-75dc2709c8ff"
      },
      "source": [
        "tokenizer = Tokenizer()\n",
        "!wget --no-check-certificate \\\n",
        "    https://storage.googleapis.com/laurencemoroney-blog.appspot.com/sonnets.txt \\\n",
        "    -O /tmp/sonnets.txt\n",
        "data = open('/tmp/sonnets.txt').read()\n",
        "\n",
        "corpus = data.lower().split(\"\\n\")\n",
        "\n",
        "\n",
        "tokenizer.fit_on_texts(corpus)\n",
        "total_words = len(tokenizer.word_index) + 1\n",
        "\n",
        "# create input sequences using list of tokens\n",
        "input_sequences = []\n",
        "for line in corpus:\n",
        "\ttoken_list = tokenizer.texts_to_sequences([line])[0]\n",
        "\tfor i in range(1, len(token_list)):\n",
        "\t\tn_gram_sequence = token_list[:i+1]\n",
        "\t\tinput_sequences.append(n_gram_sequence)\n",
        "\n",
        "\n",
        "# pad sequences \n",
        "max_sequence_len = max([len(x) for x in input_sequences])\n",
        "input_sequences = np.array(pad_sequences(input_sequences, maxlen=max_sequence_len, padding='pre'))\n",
        "\n",
        "# create predictors and label\n",
        "predictors, label = input_sequences[:,:-1],input_sequences[:,-1]\n",
        "\n",
        "label = ku.to_categorical(label, num_classes=total_words)"
      ],
      "execution_count": 2,
      "outputs": [
        {
          "output_type": "stream",
          "text": [
            "--2019-10-27 21:14:51--  https://storage.googleapis.com/laurencemoroney-blog.appspot.com/sonnets.txt\n",
            "Resolving storage.googleapis.com (storage.googleapis.com)... 74.125.140.128, 2a00:1450:400c:c08::80\n",
            "Connecting to storage.googleapis.com (storage.googleapis.com)|74.125.140.128|:443... connected.\n",
            "HTTP request sent, awaiting response... 200 OK\n",
            "Length: 93578 (91K) [text/plain]\n",
            "Saving to: ‘/tmp/sonnets.txt’\n",
            "\n",
            "\r/tmp/sonnets.txt      0%[                    ]       0  --.-KB/s               \r/tmp/sonnets.txt    100%[===================>]  91.38K  --.-KB/s    in 0.001s  \n",
            "\n",
            "2019-10-27 21:14:52 (97.2 MB/s) - ‘/tmp/sonnets.txt’ saved [93578/93578]\n",
            "\n"
          ],
          "name": "stdout"
        }
      ]
    },
    {
      "cell_type": "code",
      "metadata": {
        "id": "w9vH8Y59ajYL",
        "colab_type": "code",
        "colab": {
          "base_uri": "https://localhost:8080/",
          "height": 649
        },
        "outputId": "665bf20c-2230-44a5-924b-43031ec859ad"
      },
      "source": [
        "model = Sequential()\n",
        "model.add(Embedding(total_words, 100, input_length=max_sequence_len-1))\n",
        "model.add(Bidirectional(LSTM(150, return_sequences = True)))\n",
        "model.add(Dropout(0.2))\n",
        "model.add(LSTM(100))\n",
        "model.add(Dense(total_words/2, activation='relu', kernel_regularizer=regularizers.l2(0.01)))\n",
        "model.add(Dense(total_words, activation='softmax'))\n",
        "model.compile(loss='categorical_crossentropy', optimizer='adam', metrics=['accuracy'])\n",
        "print(model.summary())\n"
      ],
      "execution_count": 3,
      "outputs": [
        {
          "output_type": "stream",
          "text": [
            "WARNING:tensorflow:From /usr/local/lib/python3.6/dist-packages/tensorflow_core/python/keras/initializers.py:119: calling RandomUniform.__init__ (from tensorflow.python.ops.init_ops) with dtype is deprecated and will be removed in a future version.\n",
            "Instructions for updating:\n",
            "Call initializer instance with the dtype argument instead of passing it to the constructor\n",
            "WARNING:tensorflow:From /usr/local/lib/python3.6/dist-packages/tensorflow_core/python/ops/resource_variable_ops.py:1630: calling BaseResourceVariable.__init__ (from tensorflow.python.ops.resource_variable_ops) with constraint is deprecated and will be removed in a future version.\n",
            "Instructions for updating:\n",
            "If using Keras pass *_constraint arguments to layers.\n",
            "WARNING:tensorflow:From /usr/local/lib/python3.6/dist-packages/tensorflow_core/python/ops/init_ops.py:97: calling GlorotUniform.__init__ (from tensorflow.python.ops.init_ops) with dtype is deprecated and will be removed in a future version.\n",
            "Instructions for updating:\n",
            "Call initializer instance with the dtype argument instead of passing it to the constructor\n",
            "WARNING:tensorflow:From /usr/local/lib/python3.6/dist-packages/tensorflow_core/python/ops/init_ops.py:97: calling Orthogonal.__init__ (from tensorflow.python.ops.init_ops) with dtype is deprecated and will be removed in a future version.\n",
            "Instructions for updating:\n",
            "Call initializer instance with the dtype argument instead of passing it to the constructor\n",
            "WARNING:tensorflow:From /usr/local/lib/python3.6/dist-packages/tensorflow_core/python/ops/init_ops.py:97: calling Zeros.__init__ (from tensorflow.python.ops.init_ops) with dtype is deprecated and will be removed in a future version.\n",
            "Instructions for updating:\n",
            "Call initializer instance with the dtype argument instead of passing it to the constructor\n",
            "Model: \"sequential\"\n",
            "_________________________________________________________________\n",
            "Layer (type)                 Output Shape              Param #   \n",
            "=================================================================\n",
            "embedding (Embedding)        (None, 10, 100)           321100    \n",
            "_________________________________________________________________\n",
            "bidirectional (Bidirectional (None, 10, 300)           301200    \n",
            "_________________________________________________________________\n",
            "dropout (Dropout)            (None, 10, 300)           0         \n",
            "_________________________________________________________________\n",
            "lstm_1 (LSTM)                (None, 100)               160400    \n",
            "_________________________________________________________________\n",
            "dense (Dense)                (None, 1605)              162105    \n",
            "_________________________________________________________________\n",
            "dense_1 (Dense)              (None, 3211)              5156866   \n",
            "=================================================================\n",
            "Total params: 6,101,671\n",
            "Trainable params: 6,101,671\n",
            "Non-trainable params: 0\n",
            "_________________________________________________________________\n",
            "None\n"
          ],
          "name": "stdout"
        }
      ]
    },
    {
      "cell_type": "code",
      "metadata": {
        "id": "AIg2f1HBxqof",
        "colab_type": "code",
        "colab": {
          "base_uri": "https://localhost:8080/",
          "height": 1000
        },
        "outputId": "1d89821f-b561-4c67-bb72-029c85439f31"
      },
      "source": [
        " history = model.fit(predictors, label, epochs=100, verbose=1)"
      ],
      "execution_count": 4,
      "outputs": [
        {
          "output_type": "stream",
          "text": [
            "WARNING:tensorflow:From /usr/local/lib/python3.6/dist-packages/tensorflow_core/python/ops/math_grad.py:1424: where (from tensorflow.python.ops.array_ops) is deprecated and will be removed in a future version.\n",
            "Instructions for updating:\n",
            "Use tf.where in 2.0, which has the same broadcast rule as np.where\n",
            "Train on 15462 samples\n",
            "Epoch 1/100\n",
            "15462/15462 [==============================] - 31s 2ms/sample - loss: 6.9012 - acc: 0.0214\n",
            "Epoch 2/100\n",
            "15462/15462 [==============================] - 29s 2ms/sample - loss: 6.5028 - acc: 0.0211\n",
            "Epoch 3/100\n",
            "15462/15462 [==============================] - 29s 2ms/sample - loss: 6.3884 - acc: 0.0248\n",
            "Epoch 4/100\n",
            "15462/15462 [==============================] - 29s 2ms/sample - loss: 6.2635 - acc: 0.0282\n",
            "Epoch 5/100\n",
            "15462/15462 [==============================] - 29s 2ms/sample - loss: 6.1693 - acc: 0.0346\n",
            "Epoch 6/100\n",
            "15462/15462 [==============================] - 29s 2ms/sample - loss: 6.0873 - acc: 0.0384\n",
            "Epoch 7/100\n",
            "15462/15462 [==============================] - 29s 2ms/sample - loss: 6.0089 - acc: 0.0407\n",
            "Epoch 8/100\n",
            "15462/15462 [==============================] - 29s 2ms/sample - loss: 5.9237 - acc: 0.0425\n",
            "Epoch 9/100\n",
            "15462/15462 [==============================] - 29s 2ms/sample - loss: 5.8222 - acc: 0.0492\n",
            "Epoch 10/100\n",
            "15462/15462 [==============================] - 29s 2ms/sample - loss: 5.7137 - acc: 0.0556\n",
            "Epoch 11/100\n",
            "15462/15462 [==============================] - 29s 2ms/sample - loss: 5.6014 - acc: 0.0635\n",
            "Epoch 12/100\n",
            "15462/15462 [==============================] - 29s 2ms/sample - loss: 5.4882 - acc: 0.0702\n",
            "Epoch 13/100\n",
            "15462/15462 [==============================] - 29s 2ms/sample - loss: 5.3741 - acc: 0.0770\n",
            "Epoch 14/100\n",
            "15462/15462 [==============================] - 29s 2ms/sample - loss: 5.2630 - acc: 0.0841\n",
            "Epoch 15/100\n",
            "15462/15462 [==============================] - 29s 2ms/sample - loss: 5.1521 - acc: 0.0936\n",
            "Epoch 16/100\n",
            "15462/15462 [==============================] - 29s 2ms/sample - loss: 5.0434 - acc: 0.1001\n",
            "Epoch 17/100\n",
            "15462/15462 [==============================] - 29s 2ms/sample - loss: 4.9327 - acc: 0.1100\n",
            "Epoch 18/100\n",
            "15462/15462 [==============================] - 29s 2ms/sample - loss: 4.8249 - acc: 0.1163\n",
            "Epoch 19/100\n",
            "15462/15462 [==============================] - 29s 2ms/sample - loss: 4.7210 - acc: 0.1251\n",
            "Epoch 20/100\n",
            "15462/15462 [==============================] - 29s 2ms/sample - loss: 4.6085 - acc: 0.1359\n",
            "Epoch 21/100\n",
            "15462/15462 [==============================] - 29s 2ms/sample - loss: 4.5008 - acc: 0.1497\n",
            "Epoch 22/100\n",
            "15462/15462 [==============================] - 29s 2ms/sample - loss: 4.3917 - acc: 0.1602\n",
            "Epoch 23/100\n",
            "15462/15462 [==============================] - 29s 2ms/sample - loss: 4.2921 - acc: 0.1739\n",
            "Epoch 24/100\n",
            "15462/15462 [==============================] - 29s 2ms/sample - loss: 4.1820 - acc: 0.1889\n",
            "Epoch 25/100\n",
            "15462/15462 [==============================] - 29s 2ms/sample - loss: 4.0744 - acc: 0.1993\n",
            "Epoch 26/100\n",
            "15462/15462 [==============================] - 29s 2ms/sample - loss: 3.9718 - acc: 0.2192\n",
            "Epoch 27/100\n",
            "15462/15462 [==============================] - 29s 2ms/sample - loss: 3.8637 - acc: 0.2305\n",
            "Epoch 28/100\n",
            "15462/15462 [==============================] - 29s 2ms/sample - loss: 3.7727 - acc: 0.2470\n",
            "Epoch 29/100\n",
            "15462/15462 [==============================] - 29s 2ms/sample - loss: 3.6735 - acc: 0.2655\n",
            "Epoch 30/100\n",
            "15462/15462 [==============================] - 30s 2ms/sample - loss: 3.5698 - acc: 0.2838\n",
            "Epoch 31/100\n",
            "15462/15462 [==============================] - 30s 2ms/sample - loss: 3.4811 - acc: 0.3016\n",
            "Epoch 32/100\n",
            "15462/15462 [==============================] - 30s 2ms/sample - loss: 3.3920 - acc: 0.3267\n",
            "Epoch 33/100\n",
            "15462/15462 [==============================] - 30s 2ms/sample - loss: 3.2970 - acc: 0.3412\n",
            "Epoch 34/100\n",
            "15462/15462 [==============================] - 30s 2ms/sample - loss: 3.2127 - acc: 0.3622\n",
            "Epoch 35/100\n",
            "15462/15462 [==============================] - 30s 2ms/sample - loss: 3.1272 - acc: 0.3778\n",
            "Epoch 36/100\n",
            "15462/15462 [==============================] - 30s 2ms/sample - loss: 3.0657 - acc: 0.3919\n",
            "Epoch 37/100\n",
            "15462/15462 [==============================] - 30s 2ms/sample - loss: 2.9722 - acc: 0.4155\n",
            "Epoch 38/100\n",
            "15462/15462 [==============================] - 30s 2ms/sample - loss: 2.8942 - acc: 0.4369\n",
            "Epoch 39/100\n",
            "15462/15462 [==============================] - 30s 2ms/sample - loss: 2.8205 - acc: 0.4567\n",
            "Epoch 40/100\n",
            "15462/15462 [==============================] - 29s 2ms/sample - loss: 2.7618 - acc: 0.4658\n",
            "Epoch 41/100\n",
            "15462/15462 [==============================] - 30s 2ms/sample - loss: 2.6951 - acc: 0.4770\n",
            "Epoch 42/100\n",
            "15462/15462 [==============================] - 29s 2ms/sample - loss: 2.6255 - acc: 0.4964\n",
            "Epoch 43/100\n",
            "15462/15462 [==============================] - 29s 2ms/sample - loss: 2.5649 - acc: 0.5130\n",
            "Epoch 44/100\n",
            "15462/15462 [==============================] - 29s 2ms/sample - loss: 2.5059 - acc: 0.5264\n",
            "Epoch 45/100\n",
            "15462/15462 [==============================] - 29s 2ms/sample - loss: 2.4407 - acc: 0.5411\n",
            "Epoch 46/100\n",
            "15462/15462 [==============================] - 29s 2ms/sample - loss: 2.3825 - acc: 0.5534\n",
            "Epoch 47/100\n",
            "15462/15462 [==============================] - 29s 2ms/sample - loss: 2.3247 - acc: 0.5712\n",
            "Epoch 48/100\n",
            "15462/15462 [==============================] - 29s 2ms/sample - loss: 2.2955 - acc: 0.5747\n",
            "Epoch 49/100\n",
            "15462/15462 [==============================] - 29s 2ms/sample - loss: 2.2285 - acc: 0.5898\n",
            "Epoch 50/100\n",
            "15462/15462 [==============================] - 29s 2ms/sample - loss: 2.1840 - acc: 0.6035\n",
            "Epoch 51/100\n",
            "15462/15462 [==============================] - 29s 2ms/sample - loss: 2.1432 - acc: 0.6084\n",
            "Epoch 52/100\n",
            "15462/15462 [==============================] - 29s 2ms/sample - loss: 2.0995 - acc: 0.6186\n",
            "Epoch 53/100\n",
            "15462/15462 [==============================] - 29s 2ms/sample - loss: 2.0580 - acc: 0.6293\n",
            "Epoch 54/100\n",
            "15462/15462 [==============================] - 29s 2ms/sample - loss: 2.0252 - acc: 0.6343\n",
            "Epoch 55/100\n",
            "15462/15462 [==============================] - 29s 2ms/sample - loss: 1.9761 - acc: 0.6467\n",
            "Epoch 56/100\n",
            "15462/15462 [==============================] - 29s 2ms/sample - loss: 1.9364 - acc: 0.6503\n",
            "Epoch 57/100\n",
            "15462/15462 [==============================] - 29s 2ms/sample - loss: 1.8987 - acc: 0.6621\n",
            "Epoch 58/100\n",
            "15462/15462 [==============================] - 28s 2ms/sample - loss: 1.8665 - acc: 0.6680\n",
            "Epoch 59/100\n",
            "15462/15462 [==============================] - 29s 2ms/sample - loss: 1.8446 - acc: 0.6731\n",
            "Epoch 60/100\n",
            "15462/15462 [==============================] - 29s 2ms/sample - loss: 1.8116 - acc: 0.6815\n",
            "Epoch 61/100\n",
            "15462/15462 [==============================] - 29s 2ms/sample - loss: 1.7619 - acc: 0.6894\n",
            "Epoch 62/100\n",
            "15462/15462 [==============================] - 29s 2ms/sample - loss: 1.7382 - acc: 0.6965\n",
            "Epoch 63/100\n",
            "15462/15462 [==============================] - 28s 2ms/sample - loss: 1.7094 - acc: 0.7032\n",
            "Epoch 64/100\n",
            "15462/15462 [==============================] - 29s 2ms/sample - loss: 1.6806 - acc: 0.7069\n",
            "Epoch 65/100\n",
            "15462/15462 [==============================] - 29s 2ms/sample - loss: 1.6617 - acc: 0.7081\n",
            "Epoch 66/100\n",
            "15462/15462 [==============================] - 29s 2ms/sample - loss: 1.6412 - acc: 0.7131\n",
            "Epoch 67/100\n",
            "15462/15462 [==============================] - 29s 2ms/sample - loss: 1.6086 - acc: 0.7191\n",
            "Epoch 68/100\n",
            "15462/15462 [==============================] - 29s 2ms/sample - loss: 1.5688 - acc: 0.7248\n",
            "Epoch 69/100\n",
            "15462/15462 [==============================] - 29s 2ms/sample - loss: 1.5563 - acc: 0.7300\n",
            "Epoch 70/100\n",
            "15462/15462 [==============================] - 29s 2ms/sample - loss: 1.5382 - acc: 0.7357\n",
            "Epoch 71/100\n",
            "15462/15462 [==============================] - 29s 2ms/sample - loss: 1.5233 - acc: 0.7349\n",
            "Epoch 72/100\n",
            "15462/15462 [==============================] - 29s 2ms/sample - loss: 1.4971 - acc: 0.7403\n",
            "Epoch 73/100\n",
            "15462/15462 [==============================] - 29s 2ms/sample - loss: 1.4818 - acc: 0.7446\n",
            "Epoch 74/100\n",
            "15462/15462 [==============================] - 29s 2ms/sample - loss: 1.4446 - acc: 0.7540\n",
            "Epoch 75/100\n",
            "15462/15462 [==============================] - 29s 2ms/sample - loss: 1.4296 - acc: 0.7544\n",
            "Epoch 76/100\n",
            "15462/15462 [==============================] - 29s 2ms/sample - loss: 1.4129 - acc: 0.7557\n",
            "Epoch 77/100\n",
            "15462/15462 [==============================] - 29s 2ms/sample - loss: 1.3983 - acc: 0.7592\n",
            "Epoch 78/100\n",
            "15462/15462 [==============================] - 29s 2ms/sample - loss: 1.3884 - acc: 0.7610\n",
            "Epoch 79/100\n",
            "15462/15462 [==============================] - 29s 2ms/sample - loss: 1.3516 - acc: 0.7702\n",
            "Epoch 80/100\n",
            "15462/15462 [==============================] - 29s 2ms/sample - loss: 1.3436 - acc: 0.7701\n",
            "Epoch 81/100\n",
            "15462/15462 [==============================] - 29s 2ms/sample - loss: 1.3361 - acc: 0.7734\n",
            "Epoch 82/100\n",
            "15462/15462 [==============================] - 29s 2ms/sample - loss: 1.3185 - acc: 0.7717\n",
            "Epoch 83/100\n",
            "15462/15462 [==============================] - 29s 2ms/sample - loss: 1.3046 - acc: 0.7762\n",
            "Epoch 84/100\n",
            "15462/15462 [==============================] - 29s 2ms/sample - loss: 1.2899 - acc: 0.7764\n",
            "Epoch 85/100\n",
            "15462/15462 [==============================] - 29s 2ms/sample - loss: 1.2677 - acc: 0.7795\n",
            "Epoch 86/100\n",
            "15462/15462 [==============================] - 29s 2ms/sample - loss: 1.2604 - acc: 0.7832\n",
            "Epoch 87/100\n",
            "15462/15462 [==============================] - 29s 2ms/sample - loss: 1.2531 - acc: 0.7835\n",
            "Epoch 88/100\n",
            "15462/15462 [==============================] - 29s 2ms/sample - loss: 1.2512 - acc: 0.7821\n",
            "Epoch 89/100\n",
            "15462/15462 [==============================] - 29s 2ms/sample - loss: 1.2314 - acc: 0.7846\n",
            "Epoch 90/100\n",
            "15462/15462 [==============================] - 29s 2ms/sample - loss: 1.2049 - acc: 0.7955\n",
            "Epoch 91/100\n",
            "15462/15462 [==============================] - 29s 2ms/sample - loss: 1.1904 - acc: 0.7970\n",
            "Epoch 92/100\n",
            "15462/15462 [==============================] - 30s 2ms/sample - loss: 1.1781 - acc: 0.7987\n",
            "Epoch 93/100\n",
            "15462/15462 [==============================] - 29s 2ms/sample - loss: 1.1840 - acc: 0.7958\n",
            "Epoch 94/100\n",
            "15462/15462 [==============================] - 29s 2ms/sample - loss: 1.1790 - acc: 0.7969\n",
            "Epoch 95/100\n",
            "15462/15462 [==============================] - 29s 2ms/sample - loss: 1.1796 - acc: 0.7941\n",
            "Epoch 96/100\n",
            "15462/15462 [==============================] - 29s 2ms/sample - loss: 1.1537 - acc: 0.8005\n",
            "Epoch 97/100\n",
            "15462/15462 [==============================] - 29s 2ms/sample - loss: 1.1327 - acc: 0.8046\n",
            "Epoch 98/100\n",
            "15462/15462 [==============================] - 29s 2ms/sample - loss: 1.1383 - acc: 0.8012\n",
            "Epoch 99/100\n",
            "15462/15462 [==============================] - 29s 2ms/sample - loss: 1.1211 - acc: 0.8031\n",
            "Epoch 100/100\n",
            "15462/15462 [==============================] - 29s 2ms/sample - loss: 1.1171 - acc: 0.8046\n"
          ],
          "name": "stdout"
        }
      ]
    },
    {
      "cell_type": "code",
      "metadata": {
        "id": "1fXTEO3GJ282",
        "colab_type": "code",
        "colab": {
          "base_uri": "https://localhost:8080/",
          "height": 545
        },
        "outputId": "c1a957d2-a208-4762-f4f4-9298e2f012fe"
      },
      "source": [
        "import matplotlib.pyplot as plt\n",
        "acc = history.history['acc']\n",
        "loss = history.history['loss']\n",
        "\n",
        "epochs = range(len(acc))\n",
        "\n",
        "plt.plot(epochs, acc, 'b', label='Training accuracy')\n",
        "plt.title('Training accuracy')\n",
        "\n",
        "plt.figure()\n",
        "\n",
        "plt.plot(epochs, loss, 'b', label='Training Loss')\n",
        "plt.title('Training loss')\n",
        "plt.legend()\n",
        "\n",
        "plt.show()"
      ],
      "execution_count": 5,
      "outputs": [
        {
          "output_type": "display_data",
          "data": {
            "image/png": "[encoded data removed]",
            "text/plain": [
              "<Figure size 432x288 with 1 Axes>"
            ]
          },
          "metadata": {
            "tags": []
          }
        },
        {
          "output_type": "display_data",
          "data": {
            "image/png": "[encoded data removed]",
            "text/plain": [
              "<Figure size 432x288 with 1 Axes>"
            ]
          },
          "metadata": {
            "tags": []
          }
        }
      ]
    },
    {
      "cell_type": "code",
      "metadata": {
        "id": "6Vc6PHgxa6Hm",
        "colab_type": "code",
        "colab": {
          "base_uri": "https://localhost:8080/",
          "height": 54
        },
        "outputId": "514574ae-6b52-41a5-8d7d-d3e8ebed7e8f"
      },
      "source": [
        "seed_text = \"Help me Obi Wan Kenobi, you're my only hope\"\n",
        "next_words = 100\n",
        "  \n",
        "for _ in range(next_words):\n",
        "\ttoken_list = tokenizer.texts_to_sequences([seed_text])[0]\n",
        "\ttoken_list = pad_sequences([token_list], maxlen=max_sequence_len-1, padding='pre')\n",
        "\tpredicted = model.predict_classes(token_list, verbose=0)\n",
        "\toutput_word = \"\"\n",
        "\tfor word, index in tokenizer.word_index.items():\n",
        "\t\tif index == predicted:\n",
        "\t\t\toutput_word = word\n",
        "\t\t\tbreak\n",
        "\tseed_text += \" \" + output_word\n",
        "print(seed_text)"
      ],
      "execution_count": 6,
      "outputs": [
        {
          "output_type": "stream",
          "text": [
            "Help me Obi Wan Kenobi, you're my only hope but be i strive in thee loss ' on these frame hate move smoke who grows fled weak see back razed men grow 'tis men forgot men men shown down her rhyme used disdain brought will go disdain disdain shown light taken taken light light mad acquainted bow free grow 'tis men twain shown twain men see cheeks on thee still men brought in thee they brought to approve her sit cross light heaven bettering 'tis life well men matter approve her muse thee twain rare slain slain live after slain pain alone so ten change his grace was youth\n"
          ],
          "name": "stdout"
        }
      ]
    }
  ]
}